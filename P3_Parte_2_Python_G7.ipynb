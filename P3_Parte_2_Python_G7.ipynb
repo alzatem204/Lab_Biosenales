{
  "nbformat": 4,
  "nbformat_minor": 0,
  "metadata": {
    "colab": {
      "provenance": [],
      "authorship_tag": "ABX9TyOeqynhxUcz5K31SvfJoFwX",
      "include_colab_link": true
    },
    "kernelspec": {
      "name": "python3",
      "display_name": "Python 3"
    },
    "language_info": {
      "name": "python"
    }
  },
  "cells": [
    {
      "cell_type": "markdown",
      "metadata": {
        "id": "view-in-github",
        "colab_type": "text"
      },
      "source": [
        "<a href=\"https://colab.research.google.com/github/alzatem204/Lab_Biosenales/blob/main/P3_Parte_2_Python_G7.ipynb\" target=\"_parent\"><img src=\"https://colab.research.google.com/assets/colab-badge.svg\" alt=\"Open In Colab\"/></a>"
      ]
    },
    {
      "cell_type": "markdown",
      "source": [
        "Práctica 3 - Parte 2 - Comparación estadística de Energía de señales EEG\n",
        "Análisis estadístico de señales - Grupo 7\n",
        "\n",
        "Valentina Garcia Obando C.C.1000539432\n"
      ],
      "metadata": {
        "id": "bb-ddmv43S6l"
      }
    },
    {
      "cell_type": "code",
      "execution_count": 25,
      "metadata": {
        "colab": {
          "base_uri": "https://localhost:8080/"
        },
        "id": "3gxJe6yCHT_I",
        "outputId": "ed709714-755f-4142-ccc7-c562e0f800f8"
      },
      "outputs": [
        {
          "output_type": "stream",
          "name": "stdout",
          "text": [
            "Drive already mounted at /content/drive; to attempt to forcibly remount, call drive.mount(\"/content/drive\", force_remount=True).\n"
          ]
        }
      ],
      "source": [
        "from google.colab import drive\n",
        "# Montar Google Drive\n",
        "drive.mount('/content/drive')"
      ]
    },
    {
      "cell_type": "code",
      "source": [
        "import os\n",
        "from scipy.io import loadmat\n",
        "import numpy as np\n",
        "import pandas as pd"
      ],
      "metadata": {
        "id": "JRm820kqT9_h"
      },
      "execution_count": 26,
      "outputs": []
    },
    {
      "cell_type": "code",
      "source": [
        "# Listar archivos en la carpeta \"Bioseñales\" dentro de \"My Drive\"\n",
        "ruta_carpeta = '/content/drive/My Drive/Bioseñales/'\n",
        "archivos = os.listdir(ruta_carpeta)\n",
        "print(archivos)"
      ],
      "metadata": {
        "colab": {
          "base_uri": "https://localhost:8080/"
        },
        "id": "gPdonLFOUunf",
        "outputId": "0617e765-8600-431a-c94c-a8e1aa4665e8"
      },
      "execution_count": 31,
      "outputs": [
        {
          "output_type": "stream",
          "name": "stdout",
          "text": [
            "['datos_senales_datos_parkinson_cursos.zip']\n"
          ]
        }
      ]
    },
    {
      "cell_type": "code",
      "source": [
        "# Ruta al archivo comprimido en tu Google Drive\n",
        "ruta_zip = '/content/drive/My Drive/Bioseñales/datos_senales_datos_parkinson_cursos.zip'\n",
        "\n",
        "# Descomprimir el archivo en una carpeta específica en Colab\n",
        "!unzip -o \"{ruta_zip}\" -d \"/content/datos\""
      ],
      "metadata": {
        "colab": {
          "base_uri": "https://localhost:8080/"
        },
        "id": "Cgiu_vwRVqG-",
        "outputId": "cf53bb99-4c87-4859-8487-ed92f2d7dc68"
      },
      "execution_count": 8,
      "outputs": [
        {
          "output_type": "stream",
          "name": "stdout",
          "text": [
            "Archive:  /content/drive/My Drive/Bioseñales/datos_senales_datos_parkinson_cursos.zip\n",
            "  inflating: /content/datos/control/C001R_EP_reposo.mat  \n",
            "  inflating: /content/datos/control/C002_EP_reposo.mat  \n",
            "  inflating: /content/datos/control/C004_EP_reposo.mat  \n",
            "  inflating: /content/datos/control/C005_EP_reposo_Repetido.mat  \n",
            "  inflating: /content/datos/control/C006_EP_reposo.mat  \n",
            "  inflating: /content/datos/control/C007_EP_reposo.mat  \n",
            "  inflating: /content/datos/control/C010_EP_reposo.mat  \n",
            "  inflating: /content/datos/control/C011_EP_reposo.mat  \n",
            "  inflating: /content/datos/control/C012_EP_reposo.mat  \n",
            "  inflating: /content/datos/control/C013_EP_reposo.mat  \n",
            "  inflating: /content/datos/control/C015_EP_reposo.mat  \n",
            "  inflating: /content/datos/control/C018_EP_reposo.mat  \n",
            "  inflating: /content/datos/control/C019_EP_reposo.mat  \n",
            "  inflating: /content/datos/control/C020_EP_reposo.mat  \n",
            "  inflating: /content/datos/control/C021_EP_reposo.mat  \n",
            "  inflating: /content/datos/control/C023_EP_reposo.mat  \n",
            "  inflating: /content/datos/control/C024_EP_reposo.mat  \n",
            "  inflating: /content/datos/control/C025_EP_reposo.mat  \n",
            "  inflating: /content/datos/control/C026_EP_reposo.mat  \n",
            "  inflating: /content/datos/control/C027_EP_reposo.mat  \n",
            "  inflating: /content/datos/control/C028_EP_reposo.mat  \n",
            "  inflating: /content/datos/control/C029_EP_reposo.mat  \n",
            "  inflating: /content/datos/control/C030_EP_reposo.mat  \n",
            "  inflating: /content/datos/control/C031_EP_reposo.mat  \n",
            "  inflating: /content/datos/control/C032_EP_reposo.mat  \n",
            "  inflating: /content/datos/control/C033R_EP_reposo.mat  \n",
            "  inflating: /content/datos/control/C034_EP_reposo.mat  \n",
            "  inflating: /content/datos/control/C036_EP_reposo.mat  \n",
            "  inflating: /content/datos/control/C037_EP_reposo.mat  \n",
            "  inflating: /content/datos/control/C040_EP_reposo.mat  \n",
            "  inflating: /content/datos/control/C041_EP_reposo.mat  \n",
            "  inflating: /content/datos/control/C042_EP_reposo.mat  \n",
            "  inflating: /content/datos/control/C044_EP_reposo.mat  \n",
            "  inflating: /content/datos/control/C045_EP_reposo.mat  \n",
            "  inflating: /content/datos/control/C046_EP_reposo.mat  \n",
            "  inflating: /content/datos/control/C049_EP_reposo.mat  \n",
            "  inflating: /content/datos/parkinson/P001_EP_reposo.mat  \n",
            "  inflating: /content/datos/parkinson/P004_EP_reposo.mat  \n",
            "  inflating: /content/datos/parkinson/P005_EP_reposo.mat  \n",
            "  inflating: /content/datos/parkinson/P007_EP_reposo.mat  \n",
            "  inflating: /content/datos/parkinson/P012_EP_reposo.mat  \n",
            "  inflating: /content/datos/parkinson/P013_EP_reposo.mat  \n",
            "  inflating: /content/datos/parkinson/P015_EP_reposo.mat  \n",
            "  inflating: /content/datos/parkinson/P016_EP_reposo.mat  \n",
            "  inflating: /content/datos/parkinson/P017_EP_reposo.mat  \n",
            "  inflating: /content/datos/parkinson/P018_EP_reposo.mat  \n",
            "  inflating: /content/datos/parkinson/P020_EP_reposo.mat  \n",
            "  inflating: /content/datos/parkinson/P025_EP_reposo.mat  \n",
            "  inflating: /content/datos/parkinson/P026_EP_reposo.mat  \n",
            "  inflating: /content/datos/parkinson/P028_EP_reposo.mat  \n",
            "  inflating: /content/datos/parkinson/P030_EP_reposo.mat  \n",
            "  inflating: /content/datos/parkinson/P032_EP_reposo.mat  \n",
            "  inflating: /content/datos/parkinson/P033_EP_reposo.mat  \n",
            "  inflating: /content/datos/parkinson/P034_EP_reposo.mat  \n",
            "  inflating: /content/datos/parkinson/P040_EP_reposo.mat  \n",
            "  inflating: /content/datos/parkinson/P041_EP_reposo.mat  \n",
            "  inflating: /content/datos/parkinson/P046_EP_reposo.mat  \n",
            "  inflating: /content/datos/parkinson/P048_EP_reposo.mat  \n",
            "  inflating: /content/datos/parkinson/P049_EP_reposo.mat  \n"
          ]
        }
      ]
    },
    {
      "cell_type": "code",
      "source": [
        "# Listar los archivos descomprimidos en la carpeta especificada\n",
        "archivos_descomprimidos = os.listdir('/content/datos')\n",
        "print(archivos_descomprimidos)"
      ],
      "metadata": {
        "colab": {
          "base_uri": "https://localhost:8080/"
        },
        "id": "j0XYoGDkVv6N",
        "outputId": "37b54e2e-3dce-4dec-fd0f-7e2500d0e922"
      },
      "execution_count": 32,
      "outputs": [
        {
          "output_type": "stream",
          "name": "stdout",
          "text": [
            "['control', 'parkinson']\n"
          ]
        }
      ]
    },
    {
      "cell_type": "code",
      "source": [
        "# Listar archivos en la carpeta 'control'\n",
        "ruta_control = '/content/datos/control/'\n",
        "archivos_control = os.listdir(ruta_control)\n",
        "print(\"Archivos en la carpeta 'control':\")\n",
        "print(archivos_control)\n",
        "\n",
        "# Listar archivos en la carpeta 'parkinson'\n",
        "ruta_parkinson = '/content/datos/parkinson/'\n",
        "archivos_parkinson = os.listdir(ruta_parkinson)\n",
        "print(\"Archivos en la carpeta 'parkinson':\")\n",
        "print(archivos_parkinson)"
      ],
      "metadata": {
        "colab": {
          "base_uri": "https://localhost:8080/"
        },
        "id": "Yl0SHOH4WKJo",
        "outputId": "a3c64b48-9d7c-49f6-d49f-64dd1db57c69"
      },
      "execution_count": 10,
      "outputs": [
        {
          "output_type": "stream",
          "name": "stdout",
          "text": [
            "Archivos en la carpeta 'control':\n",
            "['C036_EP_reposo.mat', 'C018_EP_reposo.mat', 'C031_EP_reposo.mat', 'C001R_EP_reposo.mat', 'C025_EP_reposo.mat', 'C012_EP_reposo.mat', 'C045_EP_reposo.mat', 'C044_EP_reposo.mat', 'C021_EP_reposo.mat', 'C033R_EP_reposo.mat', 'C006_EP_reposo.mat', 'C030_EP_reposo.mat', 'C015_EP_reposo.mat', 'C011_EP_reposo.mat', 'C049_EP_reposo.mat', 'C010_EP_reposo.mat', 'C037_EP_reposo.mat', 'C040_EP_reposo.mat', 'C004_EP_reposo.mat', 'C002_EP_reposo.mat', 'C034_EP_reposo.mat', 'C019_EP_reposo.mat', 'C013_EP_reposo.mat', 'C027_EP_reposo.mat', 'C020_EP_reposo.mat', 'C026_EP_reposo.mat', 'C029_EP_reposo.mat', 'C028_EP_reposo.mat', 'C007_EP_reposo.mat', 'C042_EP_reposo.mat', 'C023_EP_reposo.mat', 'C024_EP_reposo.mat', 'C005_EP_reposo_Repetido.mat', 'C046_EP_reposo.mat', 'C041_EP_reposo.mat', 'C032_EP_reposo.mat']\n",
            "Archivos en la carpeta 'parkinson':\n",
            "['P046_EP_reposo.mat', 'P005_EP_reposo.mat', 'P017_EP_reposo.mat', 'P034_EP_reposo.mat', 'P041_EP_reposo.mat', 'P007_EP_reposo.mat', 'P033_EP_reposo.mat', 'P049_EP_reposo.mat', 'P018_EP_reposo.mat', 'P016_EP_reposo.mat', 'P001_EP_reposo.mat', 'P020_EP_reposo.mat', 'P040_EP_reposo.mat', 'P004_EP_reposo.mat', 'P026_EP_reposo.mat', 'P013_EP_reposo.mat', 'P025_EP_reposo.mat', 'P048_EP_reposo.mat', 'P032_EP_reposo.mat', 'P028_EP_reposo.mat', 'P030_EP_reposo.mat', 'P012_EP_reposo.mat', 'P015_EP_reposo.mat']\n"
          ]
        }
      ]
    },
    {
      "cell_type": "code",
      "source": [
        "import scipy.io\n",
        "\n",
        "# Cargar un archivo de ejemplo del grupo control\n",
        "ruta_archivo_control = '/content/datos/control/C001R_EP_reposo.mat'\n",
        "datos_control = scipy.io.loadmat(ruta_archivo_control)\n",
        "\n",
        "# Explorar el contenido del archivo para encontrar la clave con las señales\n",
        "print(datos_control.keys())"
      ],
      "metadata": {
        "colab": {
          "base_uri": "https://localhost:8080/"
        },
        "id": "ClEhqinULTR2",
        "outputId": "736f2d60-bdff-4f4b-a5b2-daeee23a7bec"
      },
      "execution_count": 11,
      "outputs": [
        {
          "output_type": "stream",
          "name": "stdout",
          "text": [
            "dict_keys(['__header__', '__version__', '__globals__', 'data'])\n"
          ]
        }
      ]
    },
    {
      "cell_type": "code",
      "source": [
        "from scipy.io import loadmat\n",
        "\n",
        "# Función para cargar todos los archivos .mat en una carpeta\n",
        "def cargar_datos_carpeta(ruta_carpeta):\n",
        "    datos = [] # Lista para almacenar los datos cargados\n",
        "    # Iterar sobre cada archivo en la carpeta\n",
        "    for archivo in os.listdir(ruta_carpeta):\n",
        "        # Comprobar si el archivo tiene la extensión .mat\n",
        "        if archivo.endswith('.mat'):\n",
        "            try:\n",
        "                # Crear, cargar y añadir a la lista de datos\n",
        "                ruta_archivo = os.path.join(ruta_carpeta, archivo)\n",
        "                contenido = loadmat(ruta_archivo)\n",
        "                if 'data' in contenido:\n",
        "                    datos.append(contenido['data'])\n",
        "                else:\n",
        "                    print(f\"Advertencia: 'data' no encontrado en {archivo}\")\n",
        "            except Exception as e:\n",
        "                print(f\"Error al cargar {archivo}: {e}\")\n",
        "    return datos\n",
        "\n",
        "# Cargar datos de ambas carpetas\n",
        "datos_control = cargar_datos_carpeta(ruta_control)\n",
        "datos_parkinson = cargar_datos_carpeta(ruta_parkinson)"
      ],
      "metadata": {
        "id": "7yeF-nb4Wmhx"
      },
      "execution_count": 27,
      "outputs": []
    },
    {
      "cell_type": "code",
      "source": [
        "# Definir una función para calcular la energía promedio por canal\n",
        "def calcular_energia_promedio_por_canal(datos):\n",
        "    \"\"\"\n",
        "    Calcula la energía promedio de cada canal para múltiples épocas.\n",
        "\n",
        "    Parámetros:\n",
        "    datos (list of np.array): Lista de matrices de datos, donde cada matriz representa una época\n",
        "                              y cada fila una señal de un canal.\n",
        "\n",
        "    Retorna:\n",
        "    np.array: Un array con la energía promedio de cada canal.\n",
        "    \"\"\"\n",
        "    energias = [] # Lista para almacenar la energía promedio por canal\n",
        "\n",
        "    for dato in datos:\n",
        "        # Asegurarse de que 'dato' es una matriz con múltiples épocas\n",
        "        if len(dato.shape) == 3:  # Si la forma es (n_épocas, n_canales, n_muestras)\n",
        "            # Calcular la energía para cada época\n",
        "            energias_epocas = np.sum(np.square(dato), axis=2)  # Energía por canal y época\n",
        "            # Calcular la energía promedio por canal\n",
        "            energia_promedio_canal = np.mean(energias_epocas, axis=0)  # Energía promedio por canal\n",
        "        else:\n",
        "            raise ValueError(\"El formato de los datos no es el esperado. Se esperaba una matriz 3D.\")\n",
        "\n",
        "        energias.append(energia_promedio_canal)\n",
        "\n",
        "    return np.array(energias)\n",
        "\n",
        "# Ejemplo de uso:\n",
        "# Suponiendo que cada 'dato' en 'datos_control' y 'datos_parkinson' es una matriz de forma (n_épocas, n_canales, n_muestras)\n",
        "energias_promedio_control = calcular_energia_promedio_por_canal(datos_control)\n",
        "energias_promedio_parkinson = calcular_energia_promedio_por_canal(datos_parkinson)\n",
        "\n",
        "print(\"Energía promedio por canal para el grupo control:\")\n",
        "print(energias_promedio_control)\n",
        "\n",
        "print(\"Energía promedio por canal para el grupo Parkinson:\")\n",
        "print(energias_promedio_parkinson)"
      ],
      "metadata": {
        "id": "sraFy2nbWztF",
        "colab": {
          "base_uri": "https://localhost:8080/"
        },
        "outputId": "e4bedab3-7061-438a-a8ea-2eb5bede3e6c"
      },
      "execution_count": 28,
      "outputs": [
        {
          "output_type": "stream",
          "name": "stdout",
          "text": [
            "Energía promedio por canal para el grupo control:\n",
            "[[  931.92612562   885.3732343    845.10991271 ...   814.39582653\n",
            "    846.60060952   885.64221222]\n",
            " [10035.06608632  9923.42471733  9807.64939457 ...  9902.13573434\n",
            "  10192.48422868 10461.0861976 ]\n",
            " [ 2146.41157097  2094.93772857  2049.44333565 ...  1944.82743429\n",
            "   1993.4643876   2043.061663  ]\n",
            " ...\n",
            " [ 2717.00565593  2648.98358239  2586.61313419 ...  2713.05325593\n",
            "   2771.94832824  2832.81765796]\n",
            " [ 4810.64715238  4676.180767    4552.60004518 ...  4472.07729174\n",
            "   4665.66149398  4873.60185822]\n",
            " [ 3991.74329195  3892.84742293  3793.73481074 ...  3371.47620814\n",
            "   3467.76800586  3570.18597871]]\n",
            "Energía promedio por canal para el grupo Parkinson:\n",
            "[[ 4103.06454151  4013.33885474  3927.10973936 ...  3639.3603839\n",
            "   3692.82600684  3754.1042093 ]\n",
            " [11663.71697423 11510.1398693  11359.89981034 ... 10447.71609752\n",
            "  10628.92349123 10803.31806116]\n",
            " [ 1681.44950401  1601.00389089  1529.81277437 ...  1625.78145187\n",
            "   1693.32489134  1771.66403707]\n",
            " ...\n",
            " [ 4020.41516697  3919.22442335  3828.67780808 ...  3651.49721781\n",
            "   3755.77567557  3861.13818533]\n",
            " [10005.89368245  9834.87770907  9657.04310982 ...  9715.76364213\n",
            "   9905.38417329 10098.36465727]\n",
            " [ 2215.59356503  2130.9132211   2054.45326202 ...  2189.062919\n",
            "   2267.67855389  2351.16580622]]\n"
          ]
        }
      ]
    },
    {
      "cell_type": "code",
      "source": [
        "import numpy as np\n",
        "import pandas as pd\n",
        "\n",
        "# Definir una función para crear un DataFrame a partir de la energía promedio por canal\n",
        "def crear_dataframe(energia, archivos):\n",
        "    \"\"\"\n",
        "    Crea un DataFrame a partir de la energía promedio por canal.\n",
        "\n",
        "    Parámetros:\n",
        "    energia (np.array): Un array con la energía promedio de cada canal para cada sujeto.\n",
        "    archivos (list): Lista de nombres de archivos para usar como índices en el DataFrame.\n",
        "\n",
        "    Retorna:\n",
        "    pd.DataFrame: DataFrame con energía promedio por canal.\n",
        "    \"\"\"\n",
        "    num_canales = energia.shape[1]\n",
        "    # Obtener el número de canales\n",
        "    # Crear un diccionario para los datos del DataFrame\n",
        "    datos_df = {\n",
        "        f'canal_{i+1}': energia[:, i] for i in range(num_canales)\n",
        "    }\n",
        "    df = pd.DataFrame(datos_df, index=[archivo.split('_')[0] for archivo in archivos])\n",
        "    return df\n",
        "\n",
        "# Crear DataFrames para el grupo control\n",
        "df_control = crear_dataframe(energias_promedio_control, os.listdir(ruta_control))\n",
        "# Crear DataFrames para el grupo Parkinson\n",
        "df_parkinson = crear_dataframe(energias_promedio_parkinson, os.listdir(ruta_parkinson))\n",
        "\n",
        "# Mostrar las primeras filas de los DataFrames\n",
        "print(\"DataFrame para el grupo control:\")\n",
        "print(df_control.head())\n",
        "\n",
        "print(\"DataFrame para el grupo Parkinson:\")\n",
        "print(df_parkinson.head())"
      ],
      "metadata": {
        "colab": {
          "base_uri": "https://localhost:8080/"
        },
        "id": "jHmPVVndW4A9",
        "outputId": "f6bfa7c8-db4c-4701-a4f6-040ea8346da9"
      },
      "execution_count": 29,
      "outputs": [
        {
          "output_type": "stream",
          "name": "stdout",
          "text": [
            "DataFrame para el grupo control:\n",
            "            canal_1       canal_2       canal_3       canal_4       canal_5  \\\n",
            "C036     931.926126    885.373234    845.109913    811.748349    785.634075   \n",
            "C018   10035.066086   9923.424717   9807.649395   9691.877363   9579.937131   \n",
            "C031    2146.411571   2094.937729   2049.443336   2011.693885   1983.086644   \n",
            "C001R   2529.730308   2385.720469   2251.403593   2130.312696   2025.449608   \n",
            "C025   12186.303230  11838.696857  11478.116786  11114.600749  10758.482524   \n",
            "\n",
            "            canal_6       canal_7      canal_8      canal_9     canal_10  ...  \\\n",
            "C036     766.854337    755.255619   750.471335   751.958795   759.038563  ...   \n",
            "C018    9475.098071   9379.864313  9295.833098  9223.629361  9162.922789  ...   \n",
            "C031    1964.566228   1956.569963  1959.005209  1971.258539  1992.239107  ...   \n",
            "C001R   1939.160414   1873.037403  1827.856441  1803.558561  1799.267433  ...   \n",
            "C025   10419.906981  10108.334137  9832.072410  9597.875614  9410.621125  ...   \n",
            "\n",
            "        canal_1991   canal_1992   canal_1993   canal_1994   canal_1995  \\\n",
            "C036    788.429536   774.450609   764.850033   760.740092   763.069849   \n",
            "C018   7824.392926  8075.971555  8354.216088  8652.580841  8963.951563   \n",
            "C031   1714.691772  1731.305307  1753.892037  1782.326721  1816.280791   \n",
            "C001R  1755.049874  1751.963603  1760.648569  1782.277503  1817.565038   \n",
            "C025   9572.823902  9563.447037  9581.114888  9628.156391  9705.159496   \n",
            "\n",
            "        canal_1996   canal_1997    canal_1998    canal_1999    canal_2000  \n",
            "C036    772.556767   789.631355    814.395827    846.600610    885.642212  \n",
            "C018   9280.916891  9596.043209   9902.135734  10192.484229  10461.086198  \n",
            "C031   1855.213535  1898.376022   1944.827434   1993.464388   2043.061663  \n",
            "C001R  1866.676428  1929.167208   2003.962006   2089.374634   2183.167004  \n",
            "C025   9810.899351  9942.397579  10095.099537  10263.158667  10439.814819  \n",
            "\n",
            "[5 rows x 2000 columns]\n",
            "DataFrame para el grupo Parkinson:\n",
            "           canal_1       canal_2       canal_3       canal_4       canal_5  \\\n",
            "P046   4103.064542   4013.338855   3927.109739   3846.770086   3774.377249   \n",
            "P005  11663.716974  11510.139869  11359.899810  11218.291686  11090.127848   \n",
            "P017   1681.449504   1601.003891   1529.812774   1469.303012   1420.439395   \n",
            "P034   4020.062520   3988.020762   3960.486270   3938.247521   3921.823555   \n",
            "P041   3650.318750   3569.103312   3488.754388   3411.154721   3337.988805   \n",
            "\n",
            "           canal_6       canal_7       canal_8       canal_9      canal_10  \\\n",
            "P046   3711.564144   3659.484499   3618.784861   3589.603078   3571.600223   \n",
            "P005  10979.447206  10889.273378  10821.444619  10776.526672  10753.806360   \n",
            "P017   1383.680417   1358.963929   1345.721941   1342.928214   1349.176015   \n",
            "P034   3911.435711   3906.996209   3908.113836   3914.118200   3924.101629   \n",
            "P041   3270.667922   3210.268865   3157.495195   3112.663049   3075.710132   \n",
            "\n",
            "      ...   canal_1991   canal_1992   canal_1993   canal_1994   canal_1995  \\\n",
            "P046  ...  3662.688162  3613.890854  3578.514904  3558.575957  3555.137256   \n",
            "P005  ...  9417.561253  9509.536786  9625.198318  9762.235076  9917.399887   \n",
            "P017  ...  1498.347109  1483.447191  1477.527371  1482.181787  1498.707262   \n",
            "P034  ...  3286.187538  3274.435120  3273.818247  3284.580867  3306.583727   \n",
            "P041  ...  3043.439689  3034.681634  3033.776506  3041.182183  3057.027570   \n",
            "\n",
            "        canal_1996    canal_1997    canal_1998    canal_1999    canal_2000  \n",
            "P046   3568.246609   3596.947764   3639.360384   3692.826007   3754.104209  \n",
            "P005  10086.614744  10265.127933  10447.716098  10628.923491  10803.318061  \n",
            "P017   1527.989280   1570.409083   1625.781452   1693.324891   1771.664037  \n",
            "P034   3339.308841   3381.880957   3433.101741   3491.492218   3555.350374  \n",
            "P041   3081.094836   3112.820324   3151.318248   3195.423036   3243.746592  \n",
            "\n",
            "[5 rows x 2000 columns]\n"
          ]
        }
      ]
    },
    {
      "cell_type": "code",
      "source": [
        "import pandas as pd\n",
        "from scipy import stats\n",
        "\n",
        "def verificar_normalidad(datos):\n",
        "    \"\"\"\n",
        "    Verifica la normalidad de los datos usando la prueba de Shapiro-Wilk.\n",
        "    \"\"\"\n",
        "\n",
        "    # Realizar la prueba de Shapiro-Wilk y obtener el valor p\n",
        "    _, p_value = stats.shapiro(datos)\n",
        "    # Retornar True si el valor p es mayor que 0.05 (indica normalidad)\n",
        "    return p_value > 0.05\n",
        "\n",
        "def verificar_homocedasticidad(grupo1, grupo2):\n",
        "    \"\"\"\n",
        "    Verifica la homocedasticidad usando la prueba de Levene.\n",
        "    \"\"\"\n",
        "    # Realizar la prueba de Levene y obtener el valor p\n",
        "    _, p_value = stats.levene(grupo1, grupo2)\n",
        "    # Retornar True si el valor p es mayor que 0.05 (indica homocedasticidad)\n",
        "    return p_value > 0.05\n",
        "\n",
        "def realizar_prueba_t(grupo1, grupo2, var_equal=True):\n",
        "    \"\"\"\n",
        "    Realiza la prueba t para muestras independientes.\n",
        "    \"\"\"\n",
        "    # Realizar la prueba t y obtener el valor p\n",
        "    _, p_value = stats.ttest_ind(grupo1, grupo2, equal_var=var_equal)\n",
        "    return p_value\n",
        "\n",
        "def realizar_prueba_mann_whitney(grupo1, grupo2):\n",
        "    \"\"\"\n",
        "    Realiza la prueba U de Mann-Whitney.\n",
        "    \"\"\"\n",
        "    # Realizar la prueba U de Mann-Whitney y obtener el valor p\n",
        "    _, p_value = stats.mannwhitneyu(grupo1, grupo2, alternative='two-sided')\n",
        "    return p_value\n",
        "\n",
        "def analizar_canales(df_control, df_parkinson):\n",
        "    \"\"\"\n",
        "    Analiza si hay diferencias significativas entre canales de los grupos control y Parkinson.\n",
        "    \"\"\"\n",
        "    resultados = []# Lista para almacenar los resultados\n",
        "    num_canales = df_control.shape[1]  # Número de canales en el DataFrame\n",
        "\n",
        "    for canal in range(num_canales):\n",
        "        # Extraer los datos de control y Parkinson para el canal actual\n",
        "        datos_control = df_control.iloc[:, canal]\n",
        "        datos_parkinson = df_parkinson.iloc[:, canal]\n",
        "\n",
        "        # Verificar normalidad\n",
        "        normalidad_control = verificar_normalidad(datos_control)\n",
        "        normalidad_parkinson = verificar_normalidad(datos_parkinson)\n",
        "\n",
        "        # Verificar homocedasticidad si ambos grupos son normales\n",
        "        if normalidad_control and normalidad_parkinson:\n",
        "            homocedasticidad = verificar_homocedasticidad(datos_control, datos_parkinson)\n",
        "            if homocedasticidad:\n",
        "                p_valor = realizar_prueba_t(datos_control, datos_parkinson, var_equal=True)\n",
        "                metodo = 'Prueba t (varianzas iguales)'\n",
        "            else:\n",
        "                p_valor = realizar_prueba_t(datos_control, datos_parkinson, var_equal=False)\n",
        "                metodo = 'Prueba t (varianzas desiguales)'\n",
        "        else:\n",
        "            p_valor = realizar_prueba_mann_whitney(datos_control, datos_parkinson)\n",
        "            metodo = 'Prueba U de Mann-Whitney'\n",
        "\n",
        "        # Almacenar los resultados en una lista\n",
        "        resultados.append({\n",
        "            'Canal': canal + 1,\n",
        "            'Método': metodo,\n",
        "            'p-valor': p_valor\n",
        "        })\n",
        "\n",
        "    resultados_df = pd.DataFrame(resultados)\n",
        "\n",
        "    # Imprimir resultados\n",
        "    print(\"Resultados del análisis estadístico:\")\n",
        "    print(resultados_df)\n",
        "\n",
        "    # Guardar resultados en un archivo CSV\n",
        "    resultados_df.to_csv('resultados_analisis.csv', index=False)\n",
        "\n",
        "    return resultados_df\n",
        "\n",
        "# Supongamos que df_control y df_parkinson están definidos\n",
        "resultados_analisis = analizar_canales(df_control, df_parkinson)\n"
      ],
      "metadata": {
        "colab": {
          "base_uri": "https://localhost:8080/"
        },
        "id": "to6su5vWcpgu",
        "outputId": "d8d311d6-55c5-4c4a-f077-13643aa6c6d3"
      },
      "execution_count": 30,
      "outputs": [
        {
          "output_type": "stream",
          "name": "stdout",
          "text": [
            "Resultados del análisis estadístico:\n",
            "      Canal                    Método   p-valor\n",
            "0         1  Prueba U de Mann-Whitney  0.414533\n",
            "1         2  Prueba U de Mann-Whitney  0.405701\n",
            "2         3  Prueba U de Mann-Whitney  0.388376\n",
            "3         4  Prueba U de Mann-Whitney  0.388376\n",
            "4         5  Prueba U de Mann-Whitney  0.396981\n",
            "...     ...                       ...       ...\n",
            "1995   1996  Prueba U de Mann-Whitney  0.405701\n",
            "1996   1997  Prueba U de Mann-Whitney  0.414533\n",
            "1997   1998  Prueba U de Mann-Whitney  0.396981\n",
            "1998   1999  Prueba U de Mann-Whitney  0.405701\n",
            "1999   2000  Prueba U de Mann-Whitney  0.432537\n",
            "\n",
            "[2000 rows x 3 columns]\n"
          ]
        }
      ]
    }
  ]
}